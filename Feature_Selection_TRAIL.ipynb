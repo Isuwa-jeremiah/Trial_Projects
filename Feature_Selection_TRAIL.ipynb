{
  "nbformat": 4,
  "nbformat_minor": 0,
  "metadata": {
    "colab": {
      "provenance": []
    },
    "kernelspec": {
      "name": "python3",
      "display_name": "Python 3"
    },
    "language_info": {
      "name": "python"
    }
  },
  "cells": [
    {
      "cell_type": "code",
      "source": [
        "#!pip install pyswarms==0.2.1\n",
        "#!pip install pyswarms==0.2.0\n",
        "!pip install pyswarms"
      ],
      "metadata": {
        "colab": {
          "base_uri": "https://localhost:8080/"
        },
        "id": "IE4BM5iP9xM5",
        "outputId": "c42b1f36-6261-4e59-d990-7ef5d9305575"
      },
      "execution_count": 24,
      "outputs": [
        {
          "output_type": "stream",
          "name": "stdout",
          "text": [
            "Looking in indexes: https://pypi.org/simple, https://us-python.pkg.dev/colab-wheels/public/simple/\n",
            "Requirement already satisfied: pyswarms in /usr/local/lib/python3.8/dist-packages (0.2.0)\n",
            "Requirement already satisfied: matplotlib>=1.3.1 in /usr/local/lib/python3.8/dist-packages (from pyswarms) (3.2.2)\n",
            "Requirement already satisfied: attrs==18.1.0 in /usr/local/lib/python3.8/dist-packages (from pyswarms) (18.1.0)\n",
            "Requirement already satisfied: mock==2.0.0 in /usr/local/lib/python3.8/dist-packages (from pyswarms) (2.0.0)\n",
            "Requirement already satisfied: numpy>=1.13.0 in /usr/local/lib/python3.8/dist-packages (from pyswarms) (1.21.6)\n",
            "Requirement already satisfied: pytest==3.2.1 in /usr/local/lib/python3.8/dist-packages (from pyswarms) (3.2.1)\n",
            "Requirement already satisfied: future==0.16.0 in /usr/local/lib/python3.8/dist-packages (from pyswarms) (0.16.0)\n",
            "Requirement already satisfied: PyYAML==3.12 in /usr/local/lib/python3.8/dist-packages (from pyswarms) (3.12)\n",
            "Requirement already satisfied: scipy>=0.17.0 in /usr/local/lib/python3.8/dist-packages (from pyswarms) (1.7.3)\n",
            "Requirement already satisfied: six>=1.9 in /usr/local/lib/python3.8/dist-packages (from mock==2.0.0->pyswarms) (1.15.0)\n",
            "Requirement already satisfied: pbr>=0.11 in /usr/local/lib/python3.8/dist-packages (from mock==2.0.0->pyswarms) (5.11.1)\n",
            "Requirement already satisfied: py>=1.4.33 in /usr/local/lib/python3.8/dist-packages (from pytest==3.2.1->pyswarms) (1.11.0)\n",
            "Requirement already satisfied: setuptools in /usr/local/lib/python3.8/dist-packages (from pytest==3.2.1->pyswarms) (57.4.0)\n",
            "Requirement already satisfied: kiwisolver>=1.0.1 in /usr/local/lib/python3.8/dist-packages (from matplotlib>=1.3.1->pyswarms) (1.4.4)\n",
            "Requirement already satisfied: python-dateutil>=2.1 in /usr/local/lib/python3.8/dist-packages (from matplotlib>=1.3.1->pyswarms) (2.8.2)\n",
            "Requirement already satisfied: pyparsing!=2.0.4,!=2.1.2,!=2.1.6,>=2.0.1 in /usr/local/lib/python3.8/dist-packages (from matplotlib>=1.3.1->pyswarms) (3.0.9)\n",
            "Requirement already satisfied: cycler>=0.10 in /usr/local/lib/python3.8/dist-packages (from matplotlib>=1.3.1->pyswarms) (0.11.0)\n"
          ]
        }
      ]
    },
    {
      "cell_type": "code",
      "execution_count": 46,
      "metadata": {
        "id": "1vZLZ7pZ5_HX"
      },
      "outputs": [],
      "source": [
        "\n",
        "from google.colab import drive\n",
        "import sys\n",
        "import numpy as np\n",
        "import seaborn as sns\n",
        "import pandas as pd\n",
        "from sklearn.model_selection import cross_val_score\n",
        "import matplotlib.pyplot as plt\n",
        "import pyswarms as ps\n",
        "from pyswarms.utils.environments import PlotEnvironment\n",
        "#import pyswarms.discrete\n",
        "from sklearn.model_selection import train_test_split\n",
        "from sklearn.datasets import make_classification \n",
        "from sklearn.preprocessing import LabelEncoder\n",
        "from sklearn.linear_model import LogisticRegression\n",
        "from sklearn.ensemble import RandomForestClassifier\n",
        "from IPython.display import display\n",
        "\n",
        "from datetime import datetime as dt\n",
        "import time\n",
        "\n"
      ]
    },
    {
      "cell_type": "code",
      "source": [
        "drive.mount('/content/drive')"
      ],
      "metadata": {
        "colab": {
          "base_uri": "https://localhost:8080/"
        },
        "id": "O9MDTpKS6Rqx",
        "outputId": "3cefd720-7ede-433e-f0a2-8d0492576074"
      },
      "execution_count": 47,
      "outputs": [
        {
          "output_type": "stream",
          "name": "stdout",
          "text": [
            "Drive already mounted at /content/drive; to attempt to forcibly remount, call drive.mount(\"/content/drive\", force_remount=True).\n"
          ]
        }
      ]
    },
    {
      "cell_type": "code",
      "source": [
        "%load_ext autoreload\n",
        "%autoreload 2\n",
        "%matplotlib inline"
      ],
      "metadata": {
        "colab": {
          "base_uri": "https://localhost:8080/"
        },
        "id": "2FIoEyEk-Te7",
        "outputId": "8d78af57-1ca1-4a0c-c278-3e7a80353bba"
      },
      "execution_count": 50,
      "outputs": [
        {
          "output_type": "stream",
          "name": "stdout",
          "text": [
            "The autoreload extension is already loaded. To reload it, use:\n",
            "  %reload_ext autoreload\n"
          ]
        }
      ]
    },
    {
      "cell_type": "markdown",
      "source": [
        "WE WILL BE GENERATING AN ARTIFICIAL DATA"
      ],
      "metadata": {
        "id": "wZJ6UnpLAd0i"
      }
    },
    {
      "cell_type": "code",
      "source": [
        "'''x, y = make_classification(n_samples = 500, n_features = 20, n_classes = 2, n_informative = 5,\n",
        "                           n_redundant = 0, n_repeated = 0,\n",
        "                           random_state = None, shuffle = True)\n",
        "    '''                       "
      ],
      "metadata": {
        "colab": {
          "base_uri": "https://localhost:8080/",
          "height": 35
        },
        "id": "DXXNdLDaAdM0",
        "outputId": "2e640626-eeec-4aec-9e51-a0d031b9f2c8"
      },
      "execution_count": 49,
      "outputs": [
        {
          "output_type": "execute_result",
          "data": {
            "text/plain": [
              "'x, y = make_classification(n_samples = 500, n_features = 20, n_classes = 2, n_informative = 5,\\n                           n_redundant = 0, n_repeated = 0,\\n                           random_state = None, shuffle = True)\\n    '"
            ],
            "application/vnd.google.colaboratory.intrinsic+json": {
              "type": "string"
            }
          },
          "metadata": {},
          "execution_count": 49
        }
      ]
    },
    {
      "cell_type": "code",
      "source": [
        "#x.shape"
      ],
      "metadata": {
        "id": "kiR0quFZCcHO"
      },
      "execution_count": null,
      "outputs": []
    },
    {
      "cell_type": "code",
      "source": [
        "parkDF = pd.read_csv('/content/drive/MyDrive/Datasets/parkinsons.csv')"
      ],
      "metadata": {
        "id": "baVNctfoCduJ"
      },
      "execution_count": 51,
      "outputs": []
    },
    {
      "cell_type": "code",
      "source": [
        "parkDF.shape"
      ],
      "metadata": {
        "colab": {
          "base_uri": "https://localhost:8080/"
        },
        "id": "bhtWQgQTCwNp",
        "outputId": "88ba7652-6e64-4054-bdb0-11261ac7884e"
      },
      "execution_count": 52,
      "outputs": [
        {
          "output_type": "execute_result",
          "data": {
            "text/plain": [
              "(195, 24)"
            ]
          },
          "metadata": {},
          "execution_count": 52
        }
      ]
    },
    {
      "cell_type": "code",
      "source": [
        "#parkDF.isnull().sum()\n",
        "parkDF.head(5)\n",
        "#parkDF.info()"
      ],
      "metadata": {
        "colab": {
          "base_uri": "https://localhost:8080/",
          "height": 300
        },
        "id": "1wwW0T30EOS_",
        "outputId": "6fa5f3e3-b33b-40b2-ddb1-60a1c782c539"
      },
      "execution_count": 53,
      "outputs": [
        {
          "output_type": "execute_result",
          "data": {
            "text/plain": [
              "             name  MDVP:Fo(Hz)  MDVP:Fhi(Hz)  MDVP:Flo(Hz)  MDVP:Jitter(%)  \\\n",
              "0  phon_R01_S01_1      119.992       157.302        74.997         0.00784   \n",
              "1  phon_R01_S01_2      122.400       148.650       113.819         0.00968   \n",
              "2  phon_R01_S01_3      116.682       131.111       111.555         0.01050   \n",
              "3  phon_R01_S01_4      116.676       137.871       111.366         0.00997   \n",
              "4  phon_R01_S01_5      116.014       141.781       110.655         0.01284   \n",
              "\n",
              "   MDVP:Jitter(Abs)  MDVP:RAP  MDVP:PPQ  Jitter:DDP  MDVP:Shimmer  ...  \\\n",
              "0           0.00007   0.00370   0.00554     0.01109       0.04374  ...   \n",
              "1           0.00008   0.00465   0.00696     0.01394       0.06134  ...   \n",
              "2           0.00009   0.00544   0.00781     0.01633       0.05233  ...   \n",
              "3           0.00009   0.00502   0.00698     0.01505       0.05492  ...   \n",
              "4           0.00011   0.00655   0.00908     0.01966       0.06425  ...   \n",
              "\n",
              "   Shimmer:DDA      NHR     HNR  status      RPDE       DFA   spread1  \\\n",
              "0      0.06545  0.02211  21.033       1  0.414783  0.815285 -4.813031   \n",
              "1      0.09403  0.01929  19.085       1  0.458359  0.819521 -4.075192   \n",
              "2      0.08270  0.01309  20.651       1  0.429895  0.825288 -4.443179   \n",
              "3      0.08771  0.01353  20.644       1  0.434969  0.819235 -4.117501   \n",
              "4      0.10470  0.01767  19.649       1  0.417356  0.823484 -3.747787   \n",
              "\n",
              "    spread2        D2       PPE  \n",
              "0  0.266482  2.301442  0.284654  \n",
              "1  0.335590  2.486855  0.368674  \n",
              "2  0.311173  2.342259  0.332634  \n",
              "3  0.334147  2.405554  0.368975  \n",
              "4  0.234513  2.332180  0.410335  \n",
              "\n",
              "[5 rows x 24 columns]"
            ],
            "text/html": [
              "\n",
              "  <div id=\"df-483c7581-da91-4e68-92a8-6b2fab19be39\">\n",
              "    <div class=\"colab-df-container\">\n",
              "      <div>\n",
              "<style scoped>\n",
              "    .dataframe tbody tr th:only-of-type {\n",
              "        vertical-align: middle;\n",
              "    }\n",
              "\n",
              "    .dataframe tbody tr th {\n",
              "        vertical-align: top;\n",
              "    }\n",
              "\n",
              "    .dataframe thead th {\n",
              "        text-align: right;\n",
              "    }\n",
              "</style>\n",
              "<table border=\"1\" class=\"dataframe\">\n",
              "  <thead>\n",
              "    <tr style=\"text-align: right;\">\n",
              "      <th></th>\n",
              "      <th>name</th>\n",
              "      <th>MDVP:Fo(Hz)</th>\n",
              "      <th>MDVP:Fhi(Hz)</th>\n",
              "      <th>MDVP:Flo(Hz)</th>\n",
              "      <th>MDVP:Jitter(%)</th>\n",
              "      <th>MDVP:Jitter(Abs)</th>\n",
              "      <th>MDVP:RAP</th>\n",
              "      <th>MDVP:PPQ</th>\n",
              "      <th>Jitter:DDP</th>\n",
              "      <th>MDVP:Shimmer</th>\n",
              "      <th>...</th>\n",
              "      <th>Shimmer:DDA</th>\n",
              "      <th>NHR</th>\n",
              "      <th>HNR</th>\n",
              "      <th>status</th>\n",
              "      <th>RPDE</th>\n",
              "      <th>DFA</th>\n",
              "      <th>spread1</th>\n",
              "      <th>spread2</th>\n",
              "      <th>D2</th>\n",
              "      <th>PPE</th>\n",
              "    </tr>\n",
              "  </thead>\n",
              "  <tbody>\n",
              "    <tr>\n",
              "      <th>0</th>\n",
              "      <td>phon_R01_S01_1</td>\n",
              "      <td>119.992</td>\n",
              "      <td>157.302</td>\n",
              "      <td>74.997</td>\n",
              "      <td>0.00784</td>\n",
              "      <td>0.00007</td>\n",
              "      <td>0.00370</td>\n",
              "      <td>0.00554</td>\n",
              "      <td>0.01109</td>\n",
              "      <td>0.04374</td>\n",
              "      <td>...</td>\n",
              "      <td>0.06545</td>\n",
              "      <td>0.02211</td>\n",
              "      <td>21.033</td>\n",
              "      <td>1</td>\n",
              "      <td>0.414783</td>\n",
              "      <td>0.815285</td>\n",
              "      <td>-4.813031</td>\n",
              "      <td>0.266482</td>\n",
              "      <td>2.301442</td>\n",
              "      <td>0.284654</td>\n",
              "    </tr>\n",
              "    <tr>\n",
              "      <th>1</th>\n",
              "      <td>phon_R01_S01_2</td>\n",
              "      <td>122.400</td>\n",
              "      <td>148.650</td>\n",
              "      <td>113.819</td>\n",
              "      <td>0.00968</td>\n",
              "      <td>0.00008</td>\n",
              "      <td>0.00465</td>\n",
              "      <td>0.00696</td>\n",
              "      <td>0.01394</td>\n",
              "      <td>0.06134</td>\n",
              "      <td>...</td>\n",
              "      <td>0.09403</td>\n",
              "      <td>0.01929</td>\n",
              "      <td>19.085</td>\n",
              "      <td>1</td>\n",
              "      <td>0.458359</td>\n",
              "      <td>0.819521</td>\n",
              "      <td>-4.075192</td>\n",
              "      <td>0.335590</td>\n",
              "      <td>2.486855</td>\n",
              "      <td>0.368674</td>\n",
              "    </tr>\n",
              "    <tr>\n",
              "      <th>2</th>\n",
              "      <td>phon_R01_S01_3</td>\n",
              "      <td>116.682</td>\n",
              "      <td>131.111</td>\n",
              "      <td>111.555</td>\n",
              "      <td>0.01050</td>\n",
              "      <td>0.00009</td>\n",
              "      <td>0.00544</td>\n",
              "      <td>0.00781</td>\n",
              "      <td>0.01633</td>\n",
              "      <td>0.05233</td>\n",
              "      <td>...</td>\n",
              "      <td>0.08270</td>\n",
              "      <td>0.01309</td>\n",
              "      <td>20.651</td>\n",
              "      <td>1</td>\n",
              "      <td>0.429895</td>\n",
              "      <td>0.825288</td>\n",
              "      <td>-4.443179</td>\n",
              "      <td>0.311173</td>\n",
              "      <td>2.342259</td>\n",
              "      <td>0.332634</td>\n",
              "    </tr>\n",
              "    <tr>\n",
              "      <th>3</th>\n",
              "      <td>phon_R01_S01_4</td>\n",
              "      <td>116.676</td>\n",
              "      <td>137.871</td>\n",
              "      <td>111.366</td>\n",
              "      <td>0.00997</td>\n",
              "      <td>0.00009</td>\n",
              "      <td>0.00502</td>\n",
              "      <td>0.00698</td>\n",
              "      <td>0.01505</td>\n",
              "      <td>0.05492</td>\n",
              "      <td>...</td>\n",
              "      <td>0.08771</td>\n",
              "      <td>0.01353</td>\n",
              "      <td>20.644</td>\n",
              "      <td>1</td>\n",
              "      <td>0.434969</td>\n",
              "      <td>0.819235</td>\n",
              "      <td>-4.117501</td>\n",
              "      <td>0.334147</td>\n",
              "      <td>2.405554</td>\n",
              "      <td>0.368975</td>\n",
              "    </tr>\n",
              "    <tr>\n",
              "      <th>4</th>\n",
              "      <td>phon_R01_S01_5</td>\n",
              "      <td>116.014</td>\n",
              "      <td>141.781</td>\n",
              "      <td>110.655</td>\n",
              "      <td>0.01284</td>\n",
              "      <td>0.00011</td>\n",
              "      <td>0.00655</td>\n",
              "      <td>0.00908</td>\n",
              "      <td>0.01966</td>\n",
              "      <td>0.06425</td>\n",
              "      <td>...</td>\n",
              "      <td>0.10470</td>\n",
              "      <td>0.01767</td>\n",
              "      <td>19.649</td>\n",
              "      <td>1</td>\n",
              "      <td>0.417356</td>\n",
              "      <td>0.823484</td>\n",
              "      <td>-3.747787</td>\n",
              "      <td>0.234513</td>\n",
              "      <td>2.332180</td>\n",
              "      <td>0.410335</td>\n",
              "    </tr>\n",
              "  </tbody>\n",
              "</table>\n",
              "<p>5 rows × 24 columns</p>\n",
              "</div>\n",
              "      <button class=\"colab-df-convert\" onclick=\"convertToInteractive('df-483c7581-da91-4e68-92a8-6b2fab19be39')\"\n",
              "              title=\"Convert this dataframe to an interactive table.\"\n",
              "              style=\"display:none;\">\n",
              "        \n",
              "  <svg xmlns=\"http://www.w3.org/2000/svg\" height=\"24px\"viewBox=\"0 0 24 24\"\n",
              "       width=\"24px\">\n",
              "    <path d=\"M0 0h24v24H0V0z\" fill=\"none\"/>\n",
              "    <path d=\"M18.56 5.44l.94 2.06.94-2.06 2.06-.94-2.06-.94-.94-2.06-.94 2.06-2.06.94zm-11 1L8.5 8.5l.94-2.06 2.06-.94-2.06-.94L8.5 2.5l-.94 2.06-2.06.94zm10 10l.94 2.06.94-2.06 2.06-.94-2.06-.94-.94-2.06-.94 2.06-2.06.94z\"/><path d=\"M17.41 7.96l-1.37-1.37c-.4-.4-.92-.59-1.43-.59-.52 0-1.04.2-1.43.59L10.3 9.45l-7.72 7.72c-.78.78-.78 2.05 0 2.83L4 21.41c.39.39.9.59 1.41.59.51 0 1.02-.2 1.41-.59l7.78-7.78 2.81-2.81c.8-.78.8-2.07 0-2.86zM5.41 20L4 18.59l7.72-7.72 1.47 1.35L5.41 20z\"/>\n",
              "  </svg>\n",
              "      </button>\n",
              "      \n",
              "  <style>\n",
              "    .colab-df-container {\n",
              "      display:flex;\n",
              "      flex-wrap:wrap;\n",
              "      gap: 12px;\n",
              "    }\n",
              "\n",
              "    .colab-df-convert {\n",
              "      background-color: #E8F0FE;\n",
              "      border: none;\n",
              "      border-radius: 50%;\n",
              "      cursor: pointer;\n",
              "      display: none;\n",
              "      fill: #1967D2;\n",
              "      height: 32px;\n",
              "      padding: 0 0 0 0;\n",
              "      width: 32px;\n",
              "    }\n",
              "\n",
              "    .colab-df-convert:hover {\n",
              "      background-color: #E2EBFA;\n",
              "      box-shadow: 0px 1px 2px rgba(60, 64, 67, 0.3), 0px 1px 3px 1px rgba(60, 64, 67, 0.15);\n",
              "      fill: #174EA6;\n",
              "    }\n",
              "\n",
              "    [theme=dark] .colab-df-convert {\n",
              "      background-color: #3B4455;\n",
              "      fill: #D2E3FC;\n",
              "    }\n",
              "\n",
              "    [theme=dark] .colab-df-convert:hover {\n",
              "      background-color: #434B5C;\n",
              "      box-shadow: 0px 1px 3px 1px rgba(0, 0, 0, 0.15);\n",
              "      filter: drop-shadow(0px 1px 2px rgba(0, 0, 0, 0.3));\n",
              "      fill: #FFFFFF;\n",
              "    }\n",
              "  </style>\n",
              "\n",
              "      <script>\n",
              "        const buttonEl =\n",
              "          document.querySelector('#df-483c7581-da91-4e68-92a8-6b2fab19be39 button.colab-df-convert');\n",
              "        buttonEl.style.display =\n",
              "          google.colab.kernel.accessAllowed ? 'block' : 'none';\n",
              "\n",
              "        async function convertToInteractive(key) {\n",
              "          const element = document.querySelector('#df-483c7581-da91-4e68-92a8-6b2fab19be39');\n",
              "          const dataTable =\n",
              "            await google.colab.kernel.invokeFunction('convertToInteractive',\n",
              "                                                     [key], {});\n",
              "          if (!dataTable) return;\n",
              "\n",
              "          const docLinkHtml = 'Like what you see? Visit the ' +\n",
              "            '<a target=\"_blank\" href=https://colab.research.google.com/notebooks/data_table.ipynb>data table notebook</a>'\n",
              "            + ' to learn more about interactive tables.';\n",
              "          element.innerHTML = '';\n",
              "          dataTable['output_type'] = 'display_data';\n",
              "          await google.colab.output.renderOutput(dataTable, element);\n",
              "          const docLink = document.createElement('div');\n",
              "          docLink.innerHTML = docLinkHtml;\n",
              "          element.appendChild(docLink);\n",
              "        }\n",
              "      </script>\n",
              "    </div>\n",
              "  </div>\n",
              "  "
            ]
          },
          "metadata": {},
          "execution_count": 53
        }
      ]
    },
    {
      "cell_type": "markdown",
      "source": [
        "The label is n0t at the appropriate position, thus it has to be moved."
      ],
      "metadata": {
        "id": "74jIrYDEEsR7"
      }
    },
    {
      "cell_type": "code",
      "source": [
        "#we extracted the label away from the entire data\n",
        "y = parkDF[['status']]"
      ],
      "metadata": {
        "id": "pqedrBldEDE5"
      },
      "execution_count": 54,
      "outputs": []
    },
    {
      "cell_type": "code",
      "source": [
        "#we dropped the label or class from the dataset to have only features\n",
        "x = parkDF.drop('status', axis = 1)\n"
      ],
      "metadata": {
        "id": "4VIu7ObBFDc0"
      },
      "execution_count": 55,
      "outputs": []
    },
    {
      "cell_type": "code",
      "source": [
        "#we checked the balance nature of the label class\n",
        "#y.value_counts().plot(kind = 'bar')"
      ],
      "metadata": {
        "id": "AZRDv0mxFk9-"
      },
      "execution_count": null,
      "outputs": []
    },
    {
      "cell_type": "code",
      "source": [
        "#we need to transform the name column into numerical\n",
        "x['name'] = LabelEncoder().fit_transform(x['name'])"
      ],
      "metadata": {
        "id": "yoKdpCFJF-Bc"
      },
      "execution_count": 56,
      "outputs": []
    },
    {
      "cell_type": "code",
      "source": [
        "#we need to convert the name column into an interger\n",
        "#Also, we need to convert the negative columns into positive. lets create a copy of the features\n",
        "x1 = x.copy()\n",
        "x1['spread1'] = abs(x1['spread1'])"
      ],
      "metadata": {
        "id": "Wj9m3ajtFwNy"
      },
      "execution_count": 57,
      "outputs": []
    },
    {
      "cell_type": "code",
      "source": [
        "#x1"
      ],
      "metadata": {
        "id": "KJ4_bkRtG2ea"
      },
      "execution_count": null,
      "outputs": []
    },
    {
      "cell_type": "code",
      "source": [
        "from pandas.core.tools.numeric import to_numeric\n",
        "x1['name'] = pd.to_numeric(x1['name'])"
      ],
      "metadata": {
        "id": "fb3edoMaG4YI"
      },
      "execution_count": 59,
      "outputs": []
    },
    {
      "cell_type": "code",
      "source": [
        "#x1.info()\n",
        "#y"
      ],
      "metadata": {
        "id": "KtI2gY8SHiHk"
      },
      "execution_count": null,
      "outputs": []
    },
    {
      "cell_type": "code",
      "source": [
        "#Converting dataframes to numpy arrays\n",
        "x1 = x1.values\n",
        "y = y.values"
      ],
      "metadata": {
        "id": "nflMjFBvvbbF"
      },
      "execution_count": 60,
      "outputs": []
    },
    {
      "cell_type": "code",
      "source": [
        "#x1.shape"
      ],
      "metadata": {
        "id": "XavgoOFWvppO"
      },
      "execution_count": null,
      "outputs": []
    },
    {
      "cell_type": "code",
      "source": [
        "#parkDFCombine = pd.concat([x1,y], axis = 1)"
      ],
      "metadata": {
        "id": "npC42R--PBrU"
      },
      "execution_count": null,
      "outputs": []
    },
    {
      "cell_type": "code",
      "source": [
        "#parkDFCombine"
      ],
      "metadata": {
        "id": "7-qvVcpfu09F"
      },
      "execution_count": null,
      "outputs": []
    },
    {
      "cell_type": "markdown",
      "source": [
        "We want to plot a toy dataset per feature"
      ],
      "metadata": {
        "id": "ncy4QWOuvCD0"
      }
    },
    {
      "cell_type": "code",
      "source": [
        "#sns.pairplot(parkDFCombine, hue = 'status')"
      ],
      "metadata": {
        "id": "CnIlAshEvKSb"
      },
      "execution_count": null,
      "outputs": []
    },
    {
      "cell_type": "markdown",
      "source": [
        "We will then use a simple logistic regression technique using sklearn.linear_model.LogisticRegression to perform classification. A simple test of accuracy will be used to assess the performance of the classifier."
      ],
      "metadata": {
        "id": "SD97ZsfH0Xpl"
      }
    },
    {
      "cell_type": "markdown",
      "source": [
        "## Writing the custom-objective function\n",
        "As seen above, we can write our objective function by simply taking the performance of the classifier (in this case, the accuracy), and the size of the feature subset divided by the total (that is, divided by 10), to return an error in the data. We'll now write our custom-objective function"
      ],
      "metadata": {
        "id": "ITJgFIYu0ls4"
      }
    },
    {
      "cell_type": "code",
      "source": [
        "#we first of all create an instance of the class LogisticRegression\n",
        "classifier = LogisticRegression()"
      ],
      "metadata": {
        "id": "zVFWXxnE0Oi9"
      },
      "execution_count": 61,
      "outputs": []
    },
    {
      "cell_type": "markdown",
      "source": [
        "## **Define objective function**"
      ],
      "metadata": {
        "id": "5MMfk4_JEeU5"
      }
    },
    {
      "cell_type": "code",
      "source": [
        "def f_per_particle(m, alpha):\n",
        "    total_features = x1.shape[1] #this returns the number of features i.e., 1 stands for columns and 0 for rows\n",
        "    if np.count_nonzero(m) == 0: #if the particle subset is only zeros, get the original set of attaributes\n",
        "      x1_subset = x1\n",
        "    else:\n",
        "      x1_subset = x1[:,m==1]\n",
        "\n",
        "    scores = cross_val_score(classifier, x1_subset, y, cv = 3)\n",
        "    P = scores.mean()\n",
        "    particlesScore.append(P)\n",
        "    particlesSize.append(x1_subset.shape[1])\n",
        "    \n",
        "    #Now we compute the objective function\n",
        "    j = (alpha * (1.0 - P) \n",
        "        + (1.0 - alpha)*(1 - (x1_subset.shape[1] / total_features)))\n",
        "    return j"
      ],
      "metadata": {
        "id": "15NRI-3S2uFG"
      },
      "execution_count": 62,
      "outputs": []
    },
    {
      "cell_type": "code",
      "source": [
        "def f(x1, alpha = 0.9):\n",
        "    n_particles = x1.shape[0] #defining number of particles to be equal to the number of samples in the dataset\n",
        "    j = [f_per_particle(x1[i], alpha) for i in range(n_particles)]\n",
        "    #print('function of j: ',j)\n",
        "    return np.array(j)"
      ],
      "metadata": {
        "id": "UvdQOkMSFWNe"
      },
      "execution_count": 63,
      "outputs": []
    },
    {
      "cell_type": "markdown",
      "source": [
        "# Using Binary PSO\n",
        "With everything set-up, we can now use Binary PSO to perform feature selection. For now, we'll be doing a global-best solution by setting the number of neighbors equal to the number of particles. The hyperparameters are also set arbitrarily. Moreso, we'll also be setting the distance metric as 2 (truth is, it's not really relevant because each particle will see one another)."
      ],
      "metadata": {
        "id": "uicEdQJ2Mzvo"
      }
    },
    {
      "cell_type": "code",
      "source": [
        "start = dt.now() #representing the starting time of a task/process\n",
        "print ('started at: ', str(start))\n",
        "particlesScore = list()\n",
        "particlesSize = list()\n",
        "\n",
        "#initialize swarm arbitrary\n",
        "opt = {'c1': 2, 'c2': 2, 'w': 0.3, 'k': 20, 'p': 2} \n",
        "'''where k= number of neighbors to be considered. Must be a\n",
        "positive integer less than n_particles, p = Enclidean or L2 distance'''"
      ],
      "metadata": {
        "colab": {
          "base_uri": "https://localhost:8080/",
          "height": 53
        },
        "id": "8PCXW3TbSHzM",
        "outputId": "b80f1397-fa68-4a75-801c-9a369157f54c"
      },
      "execution_count": 64,
      "outputs": [
        {
          "output_type": "stream",
          "name": "stdout",
          "text": [
            "started at:  2023-02-03 22:05:46.058491\n"
          ]
        },
        {
          "output_type": "execute_result",
          "data": {
            "text/plain": [
              "'where k= number of neighbors to be considered. Must be a\\npositive integer less than n_particles, p = Enclidean or L2 distance'"
            ],
            "application/vnd.google.colaboratory.intrinsic+json": {
              "type": "string"
            }
          },
          "metadata": {},
          "execution_count": 64
        }
      ]
    },
    {
      "cell_type": "code",
      "source": [
        "#Call instance of PSO\n",
        "dim = x1.shape[1] #dimensions is the number of features/variables in the dataset\n",
        "optimizer = ps.discrete.BinaryPSO(n_particles = 20, dimensions = dim, options=opt, velocity_clamp= (-1,1))\n",
        "#optimizer = ps.discrete.BinaryPSO(n_particles = 20, dimensions = dim, options = opt)\n",
        "#cost, pos = optimizer.optimize(f, iters=10, )"
      ],
      "metadata": {
        "id": "rZXpl4UMbDcl"
      },
      "execution_count": 65,
      "outputs": []
    },
    {
      "cell_type": "code",
      "source": [
        "#Initialize the plot environment\n",
        "plt_env = PlotEnvironment(optimizer, f, 20) #Where 10 stands for number of iterations"
      ],
      "metadata": {
        "id": "QGLv2kbXvbHx"
      },
      "execution_count": null,
      "outputs": []
    },
    {
      "cell_type": "code",
      "source": [
        "#plot the cost\n",
        "plt_env.plot_cost(figsize = (8,6));\n",
        "plt.show()\n",
        "end = dt.now()\n",
        "print('Finished at Exactly: ', str(end))\n",
        "print('Total duration of time is: ', str(end - start))"
      ],
      "metadata": {
        "id": "cLytVDkvw3ZD",
        "colab": {
          "base_uri": "https://localhost:8080/",
          "height": 439
        },
        "outputId": "cc0f183b-0d3c-443b-e469-6c224f7b31b6"
      },
      "execution_count": 70,
      "outputs": [
        {
          "output_type": "display_data",
          "data": {
            "text/plain": [
              "<Figure size 576x432 with 1 Axes>"
            ],
            "image/png": "[encoded data removed]"
          },
          "metadata": {
            "needs_background": "light"
          }
        },
        {
          "output_type": "stream",
          "name": "stdout",
          "text": [
            "Finished at Exactly:  2023-02-03 22:13:53.108279\n",
            "Total duration of time is:  0:08:07.049788\n"
          ]
        }
      ]
    },
    {
      "cell_type": "code",
      "source": [
        "print(optimizer.get_mean_pbest_history)\n",
        "#print(optimizer.personal_best_pos[5])"
      ],
      "metadata": {
        "id": "UkJ8gT0sXu6q"
      },
      "execution_count": null,
      "outputs": []
    },
    {
      "cell_type": "markdown",
      "source": [
        "## **SOMEDAY I MIGHT CONTINUE. BUT I LEARNT A GREAT DEAL FROM THIS PROJECT.**"
      ],
      "metadata": {
        "id": "BVm4ymjOaXXJ"
      }
    }
  ]
}